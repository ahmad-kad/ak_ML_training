{
 "cells": [
  {
   "cell_type": "markdown",
   "metadata": {},
   "source": [
    "# Workflow\n",
    "\n",
    "- define ML task\n",
    "- create the dataset\n",
    "- explore the dataset and curate it\n",
    "- pick a neural network\n",
    "- Design Architecture\n",
    "- loss function\n",
    "- optimization\n",
    "- parameters\n",
    "- regularization\n",
    "- evaluation\n",
    "- implementation\n",
    "- training\n",
    "- hyperparameter tuning\n",
    "- iteration\n",
    "- deployment\n",
    "- testing + evaluation"
   ]
  },
  {
   "cell_type": "markdown",
   "metadata": {},
   "source": [
    "# Architecture\n",
    "\n",
    "## Layers\n",
    "\n",
    "#### CNN\n",
    "* Input Layer\n",
    "* Convolution Layer\n",
    "* Pooling Layer\n",
    "* Dense Layers\n",
    "* Output Layer\n",
    "* Optional Regularization and Normalize Layers\n",
    "* Skip Connections (Optional)\n",
    "\n",
    "\n",
    "#### RNN\n",
    "* Input Layer\n",
    "* Recurrent Layers\n",
    "* Attention Layers (Optional)\n",
    "* Output Layer\n",
    "* Regularization and Normalization Layers (Optional)\n",
    "* Skip Connections (Optional)\n",
    "* Output Sequence Length Adjustment\n",
    "\n",
    "\n",
    "-----\n",
    "\n",
    "* Input Layer\n",
    "* Dense (Fully Connected Layers)\n",
    "\n",
    "* Convolution Layer or Recurrent Layer\n",
    "\n",
    "* Pooling Layer\n",
    "* Batch Normalization Layer\n",
    "* Activation Layer\n",
    "* Embedding Layer\n",
    "* Normalization Layer\n",
    "* Attention Layer\n",
    "* Output Layer\n",
    "\n",
    "\n"
   ]
  }
 ],
 "metadata": {
  "language_info": {
   "name": "python"
  },
  "orig_nbformat": 4
 },
 "nbformat": 4,
 "nbformat_minor": 2
}
